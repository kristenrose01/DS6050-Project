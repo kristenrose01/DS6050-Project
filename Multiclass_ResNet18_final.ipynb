{
  "cells": [
    {
      "cell_type": "markdown",
      "metadata": {
        "id": "1mCBRVBFuSYd"
      },
      "source": [
        "# Detecting Breast Tissue Abnormalities in Mammograms through Deep Learning\n",
        "Project Group 4: Stephanie Landas (sfl7ck), Kristen Rose (krr4de), Michelle Wu (mw3ef)"
      ]
    },
    {
      "cell_type": "code",
      "execution_count": null,
      "metadata": {
        "id": "EfUaeAUnLYNy"
      },
      "outputs": [],
      "source": [
        "# IMPORTS\n",
        "import os\n",
        "import math\n",
        "import pickle\n",
        "from tqdm import tqdm\n",
        "import numpy as np\n",
        "import pandas as pd\n",
        "from PIL import Image\n",
        "import matplotlib.pyplot as plt\n",
        "from sklearn import metrics\n",
        "\n",
        "import torch\n",
        "from torch import optim\n",
        "import torch.nn as nn\n",
        "from torch.utils.data import Dataset, DataLoader\n",
        "import torchvision.transforms as tr\n",
        "from torchvision.models import resnet18, ResNet18_Weights\n",
        "\n",
        "device = \"cuda\" if torch.cuda.is_available() else \"cpu\""
      ]
    },
    {
      "cell_type": "markdown",
      "metadata": {
        "id": "vn30juP7Ap6O"
      },
      "source": [
        "## Load in csv"
      ]
    },
    {
      "cell_type": "code",
      "execution_count": null,
      "metadata": {
        "colab": {
          "base_uri": "https://localhost:8080/"
        },
        "id": "lnlsy0rvA8MX",
        "outputId": "faf84c33-264d-4622-9bb8-88f807a4180c"
      },
      "outputs": [
        {
          "output_type": "stream",
          "name": "stdout",
          "text": [
            "Mounted at /content/drive\n"
          ]
        }
      ],
      "source": [
        "from google.colab import drive\n",
        "drive.mount('/content/drive')"
      ]
    },
    {
      "cell_type": "code",
      "execution_count": null,
      "metadata": {
        "id": "nDMCuIy1Avmc"
      },
      "outputs": [],
      "source": [
        "root = \"/content/drive/MyDrive/DS6050 (Deep Learning) Project/Data\"\n",
        "train_csv_path = os.path.join(root, \"csv\", \"mass_case_description_train_set.csv\")\n",
        "test_csv_path = os.path.join(root, \"csv\", \"mass_case_description_test_set.csv\")\n",
        "images = os.path.join(root, \"jpeg\")"
      ]
    },
    {
      "cell_type": "code",
      "execution_count": null,
      "metadata": {
        "id": "RDFd309CIOOY"
      },
      "outputs": [],
      "source": [
        "train_csv = pd.read_csv(train_csv_path)\n",
        "test_csv = pd.read_csv(test_csv_path)"
      ]
    },
    {
      "cell_type": "code",
      "execution_count": null,
      "metadata": {
        "colab": {
          "base_uri": "https://localhost:8080/"
        },
        "id": "SZ3tk2-ZY9Xl",
        "outputId": "8260e9d4-25d6-4945-c34b-171ddfe69044"
      },
      "outputs": [
        {
          "output_type": "execute_result",
          "data": {
            "text/plain": [
              "MALIGNANT                  637\n",
              "BENIGN                     577\n",
              "BENIGN_WITHOUT_CALLBACK    104\n",
              "Name: pathology, dtype: int64"
            ]
          },
          "metadata": {},
          "execution_count": 5
        }
      ],
      "source": [
        "train_csv['pathology'].value_counts()"
      ]
    },
    {
      "cell_type": "markdown",
      "metadata": {
        "id": "TbIKxNllId6m"
      },
      "source": [
        "### View one image of each type"
      ]
    },
    {
      "cell_type": "code",
      "execution_count": null,
      "metadata": {
        "id": "gk58qj9LIdOM"
      },
      "outputs": [],
      "source": [
        "# benign_img_path = train_csv.loc[train_csv['pathology'] == \"BENIGN\"].iloc[[0]]\\\n",
        "# ['image file path'].values[0]\n",
        "# benign_img = Image.open(os.path.join(images, benign_img_path.split(\"/\")[-2], \\\n",
        "# os.listdir(os.path.join(images, benign_img_path.split(\"/\")[-2]))[0])).convert(\"RGB\")\n",
        "# plt.imshow(benign_img)\n",
        "# plt.title(\"benign\");\n",
        "# plt.show()\n",
        "\n",
        "# benign_no_callback_img_path = train_csv.loc[train_csv['pathology'] == \"BENIGN_WITHOUT_CALLBACK\"].iloc[[0]]\\\n",
        "# ['image file path'].values[0]\n",
        "# benign_no_callback_img = Image.open(os.path.join(images, benign_no_callback_img_path.split(\"/\")[-2], \\\n",
        "# os.listdir(os.path.join(images, benign_no_callback_img_path.split(\"/\")[-2]))[0])).convert(\"RGB\")\n",
        "# plt.imshow(benign_no_callback_img)\n",
        "# plt.title(\"benign no callback\");\n",
        "# plt.show()\n",
        "\n",
        "# malignant_img_path = train_csv.loc[train_csv['pathology'] == \"MALIGNANT\"].iloc[[0]]\\\n",
        "# ['image file path'].values[0]\n",
        "# malignant_img = Image.open(os.path.join(images, malignant_img_path.split(\"/\")[-2], \\\n",
        "# os.listdir(os.path.join(images, malignant_img_path.split(\"/\")[-2]))[0])).convert(\"RGB\")\n",
        "# plt.imshow(malignant_img)\n",
        "# plt.title(\"malignant\");\n",
        "# plt.show()\n"
      ]
    },
    {
      "cell_type": "markdown",
      "metadata": {
        "id": "oavIQe07IsAz"
      },
      "source": [
        "## Datasets"
      ]
    },
    {
      "cell_type": "code",
      "execution_count": null,
      "metadata": {
        "colab": {
          "base_uri": "https://localhost:8080/"
        },
        "id": "dlTy3NHVOgGp",
        "outputId": "a760248a-0ee3-4513-ce46-6ae89a815e08"
      },
      "outputs": [
        {
          "output_type": "stream",
          "name": "stdout",
          "text": [
            "train data: 1120, val data: 198\n"
          ]
        }
      ],
      "source": [
        "train_data = []\n",
        "val_data = []\n",
        "\n",
        "for index, row in train_csv.iterrows():\n",
        "  path = f\"{row['image file path'].split('/')[-2]}\"\n",
        "  if(index < np.round(len(train_csv)*0.85)):\n",
        "    if(row['pathology'] == \"BENIGN_WITHOUT_CALLBACK\"):\n",
        "      train_data.append(os.path.join(images, path, \\\n",
        "    f\"BENIGNWITHOUTCALLBACK_{os.listdir(os.path.join(images, row['image file path'].split('/')[-2]))[0]}\"))\n",
        "    else:\n",
        "      train_data.append(os.path.join(images, path, \\\n",
        "    f\"{row['pathology']}_{os.listdir(os.path.join(images, row['image file path'].split('/')[-2]))[0]}\"))\n",
        "  else:\n",
        "    if(row['pathology'] == \"BENIGN_WITHOUT_CALLBACK\"):\n",
        "      val_data.append(os.path.join(images, path, \\\n",
        "    f\"BENIGNWITHOUTCALLBACK_{os.listdir(os.path.join(images, row['image file path'].split('/')[-2]))[0]}\"))\n",
        "    else:\n",
        "      val_data.append(os.path.join(images, path, \\\n",
        "    f\"{row['pathology']}_{os.listdir(os.path.join(images, row['image file path'].split('/')[-2]))[0]}\"))\n",
        "\n",
        "print(f\"train data: {len(train_data)}, val data: {len(val_data)}\")"
      ]
    },
    {
      "cell_type": "code",
      "execution_count": null,
      "metadata": {
        "id": "FUIWPDf3cs_9"
      },
      "outputs": [],
      "source": [
        "class ClassifierDataset(Dataset):\n",
        "  def __init__(self, image_paths, class_dict, transforms):\n",
        "    self.paths = image_paths\n",
        "    self.class_dict = class_dict\n",
        "    self.transforms = transforms\n",
        "\n",
        "  def __len__(self):\n",
        "    return len(self.paths)\n",
        "\n",
        "  def __getitem__(self, idx):\n",
        "    path = self.paths[idx]\n",
        "    actual_path = f\"{'/'.join(path.split('/')[:-1])}/{os.path.basename(path)[:-4].split('_')[-1]}.jpg\"\n",
        "    pil_img = Image.open(actual_path).convert(\"RGB\")\n",
        "    tensor = self.transforms(pil_img)\n",
        "    label = os.path.basename(path)[:-4].split(\"_\")[0]\n",
        "    if(label == \"BENIGN\"):\n",
        "      label = \"benign\"\n",
        "    elif(label == \"BENIGNWITHOUTCALLBACK\"):\n",
        "      label = \"normal\"\n",
        "    else:\n",
        "      label = \"malignant\"\n",
        "    label = self.class_dict[label]\n",
        "    return tensor, label\n"
      ]
    },
    {
      "cell_type": "markdown",
      "metadata": {
        "id": "6o7JRdjXI97f"
      },
      "source": [
        "## Dataloader"
      ]
    },
    {
      "cell_type": "code",
      "execution_count": null,
      "metadata": {
        "id": "k0tebIh0lbIt"
      },
      "outputs": [],
      "source": [
        "batch_size = 16\n",
        "class_dict = {\"benign\": 0, \"normal\": 1, \"malignant\": 2}\n",
        "transforms = tr.Compose([tr.ToTensor(), tr.Resize((1024, 1024), antialias = True), tr.Normalize(mean=[0.485, 0.456, 0.406], std=[0.229, 0.224, 0.225])])\n",
        "train_dataloader = DataLoader(dataset=ClassifierDataset(image_paths=train_data, class_dict=class_dict, transforms=transforms),\n",
        "                              batch_size=batch_size,\n",
        "                              num_workers=0,\n",
        "                              shuffle=True)\n",
        "val_dataloader = DataLoader(dataset=ClassifierDataset(image_paths=val_data, class_dict=class_dict, transforms=transforms),\n",
        "                              batch_size=batch_size,\n",
        "                              num_workers=0,\n",
        "                              shuffle=True)\n",
        "dataloader_dict = {\"train\": train_dataloader, \"val\": val_dataloader}\n",
        "\n"
      ]
    },
    {
      "cell_type": "markdown",
      "metadata": {
        "id": "PLAPLIsfJNad"
      },
      "source": [
        "## Hyperparameters"
      ]
    },
    {
      "cell_type": "code",
      "execution_count": null,
      "metadata": {
        "id": "acxJu60XrkaD"
      },
      "outputs": [],
      "source": [
        "epochs = 100\n",
        "learning_rate = 0.001\n",
        "weight_decay = 0.00001\n",
        "momentum = 0.9\n"
      ]
    },
    {
      "cell_type": "markdown",
      "metadata": {
        "id": "YikzpHHzJTeX"
      },
      "source": [
        "## Load in pretrained model"
      ]
    },
    {
      "cell_type": "code",
      "execution_count": null,
      "metadata": {
        "colab": {
          "base_uri": "https://localhost:8080/"
        },
        "id": "lmsYZLEsJLO7",
        "outputId": "b4ddade3-ea43-4184-eeb9-614e064c4552"
      },
      "outputs": [
        {
          "name": "stderr",
          "output_type": "stream",
          "text": [
            "/usr/local/lib/python3.10/dist-packages/torchvision/models/_utils.py:223: UserWarning: Arguments other than a weight enum or `None` for 'weights' are deprecated since 0.13 and may be removed in the future. The current behavior is equivalent to passing `weights=ResNet18_Weights.IMAGENET1K_V1`. You can also use `weights=ResNet18_Weights.DEFAULT` to get the most up-to-date weights.\n",
            "  warnings.warn(msg)\n",
            "Downloading: \"https://download.pytorch.org/models/resnet18-f37072fd.pth\" to /root/.cache/torch/hub/checkpoints/resnet18-f37072fd.pth\n",
            "100%|██████████| 44.7M/44.7M [00:00<00:00, 95.3MB/s]\n"
          ]
        }
      ],
      "source": [
        "model = resnet18(weights=ResNet18_Weights)\n",
        "model_name = \"multi_classify_breast_cancer_resnet18\"\n",
        "optimizer = optim.SGD(model.parameters(), lr=learning_rate, momentum=momentum, weight_decay=weight_decay)\n",
        "criterion = nn.CrossEntropyLoss()"
      ]
    },
    {
      "cell_type": "code",
      "execution_count": null,
      "metadata": {
        "colab": {
          "background_save": true,
          "base_uri": "https://localhost:8080/"
        },
        "id": "tZ12qYsvqZ2x",
        "outputId": "c7c449ac-2540-4a44-b0d6-e3254b83165d"
      },
      "outputs": [
        {
          "name": "stdout",
          "output_type": "stream",
          "text": [
            "Epoch 0\n"
          ]
        },
        {
          "name": "stderr",
          "output_type": "stream",
          "text": [
            "100%|██████████| 70/70 [17:15<00:00, 14.79s/it]\n"
          ]
        },
        {
          "name": "stdout",
          "output_type": "stream",
          "text": [
            "train; Loss: 1.7287502293075834, Acc: 0.5089285969734192\n"
          ]
        },
        {
          "name": "stderr",
          "output_type": "stream",
          "text": [
            "100%|██████████| 13/13 [03:07<00:00, 14.43s/it]\n"
          ]
        },
        {
          "name": "stdout",
          "output_type": "stream",
          "text": [
            "val; Loss: 0.896669829132581, Acc: 0.560606062412262\n",
            "Epoch 1\n"
          ]
        },
        {
          "name": "stderr",
          "output_type": "stream",
          "text": [
            "100%|██████████| 70/70 [11:51<00:00, 10.16s/it]\n"
          ]
        },
        {
          "name": "stdout",
          "output_type": "stream",
          "text": [
            "train; Loss: 0.760237716776984, Acc: 0.610714316368103\n"
          ]
        },
        {
          "name": "stderr",
          "output_type": "stream",
          "text": [
            "100%|██████████| 13/13 [02:02<00:00,  9.40s/it]\n"
          ]
        },
        {
          "name": "stdout",
          "output_type": "stream",
          "text": [
            "val; Loss: 1.0062823963887764, Acc: 0.5353535413742065\n",
            "Epoch 2\n"
          ]
        },
        {
          "name": "stderr",
          "output_type": "stream",
          "text": [
            "100%|██████████| 70/70 [11:49<00:00, 10.13s/it]\n"
          ]
        },
        {
          "name": "stdout",
          "output_type": "stream",
          "text": [
            "train; Loss: 0.6723232401268823, Acc: 0.6767857074737549\n"
          ]
        },
        {
          "name": "stderr",
          "output_type": "stream",
          "text": [
            "100%|██████████| 13/13 [02:05<00:00,  9.65s/it]\n"
          ]
        },
        {
          "name": "stdout",
          "output_type": "stream",
          "text": [
            "val; Loss: 1.1013465192582872, Acc: 0.4595959484577179\n",
            "Epoch 3\n"
          ]
        },
        {
          "name": "stderr",
          "output_type": "stream",
          "text": [
            "100%|██████████| 70/70 [12:05<00:00, 10.36s/it]\n"
          ]
        },
        {
          "name": "stdout",
          "output_type": "stream",
          "text": [
            "train; Loss: 0.6618635109492711, Acc: 0.6875\n"
          ]
        },
        {
          "name": "stderr",
          "output_type": "stream",
          "text": [
            "100%|██████████| 13/13 [02:01<00:00,  9.34s/it]\n"
          ]
        },
        {
          "name": "stdout",
          "output_type": "stream",
          "text": [
            "val; Loss: 0.9761806088264542, Acc: 0.5707070827484131\n",
            "Epoch 4\n"
          ]
        },
        {
          "name": "stderr",
          "output_type": "stream",
          "text": [
            "100%|██████████| 70/70 [12:02<00:00, 10.32s/it]\n"
          ]
        },
        {
          "name": "stdout",
          "output_type": "stream",
          "text": [
            "train; Loss: 0.5993830510548183, Acc: 0.7392857074737549\n"
          ]
        },
        {
          "name": "stderr",
          "output_type": "stream",
          "text": [
            "100%|██████████| 13/13 [02:04<00:00,  9.59s/it]\n"
          ]
        },
        {
          "name": "stdout",
          "output_type": "stream",
          "text": [
            "val; Loss: 1.1070636709531148, Acc: 0.5050504803657532\n",
            "Epoch 5\n"
          ]
        },
        {
          "name": "stderr",
          "output_type": "stream",
          "text": [
            "100%|██████████| 70/70 [12:04<00:00, 10.34s/it]\n"
          ]
        },
        {
          "name": "stdout",
          "output_type": "stream",
          "text": [
            "train; Loss: 0.5687668368220329, Acc: 0.7571428418159485\n"
          ]
        },
        {
          "name": "stderr",
          "output_type": "stream",
          "text": [
            "100%|██████████| 13/13 [02:06<00:00,  9.71s/it]\n"
          ]
        },
        {
          "name": "stdout",
          "output_type": "stream",
          "text": [
            "val; Loss: 1.005055798424615, Acc: 0.6464646458625793\n",
            "Epoch 6\n"
          ]
        },
        {
          "name": "stderr",
          "output_type": "stream",
          "text": [
            "100%|██████████| 70/70 [11:57<00:00, 10.26s/it]\n"
          ]
        },
        {
          "name": "stdout",
          "output_type": "stream",
          "text": [
            "train; Loss: 0.5214472715343748, Acc: 0.7732142806053162\n"
          ]
        },
        {
          "name": "stderr",
          "output_type": "stream",
          "text": [
            "100%|██████████| 13/13 [02:04<00:00,  9.55s/it]\n"
          ]
        },
        {
          "name": "stdout",
          "output_type": "stream",
          "text": [
            "val; Loss: 0.8994957678245775, Acc: 0.5909090638160706\n",
            "Epoch 7\n"
          ]
        },
        {
          "name": "stderr",
          "output_type": "stream",
          "text": [
            "100%|██████████| 70/70 [12:01<00:00, 10.31s/it]\n"
          ]
        },
        {
          "name": "stdout",
          "output_type": "stream",
          "text": [
            "train; Loss: 0.4536238947084972, Acc: 0.8053571581840515\n"
          ]
        },
        {
          "name": "stderr",
          "output_type": "stream",
          "text": [
            "100%|██████████| 13/13 [02:06<00:00,  9.73s/it]\n"
          ]
        },
        {
          "name": "stdout",
          "output_type": "stream",
          "text": [
            "val; Loss: 2.2216193784366953, Acc: 0.4292929172515869\n",
            "Epoch 8\n"
          ]
        },
        {
          "name": "stderr",
          "output_type": "stream",
          "text": [
            "100%|██████████| 70/70 [12:11<00:00, 10.45s/it]\n"
          ]
        },
        {
          "name": "stdout",
          "output_type": "stream",
          "text": [
            "train; Loss: 0.3973517200776509, Acc: 0.8446428775787354\n"
          ]
        },
        {
          "name": "stderr",
          "output_type": "stream",
          "text": [
            "100%|██████████| 13/13 [02:07<00:00,  9.79s/it]\n"
          ]
        },
        {
          "name": "stdout",
          "output_type": "stream",
          "text": [
            "val; Loss: 1.3174803485774031, Acc: 0.5202020406723022\n",
            "Epoch 9\n"
          ]
        },
        {
          "name": "stderr",
          "output_type": "stream",
          "text": [
            "100%|██████████| 70/70 [11:51<00:00, 10.16s/it]\n"
          ]
        },
        {
          "name": "stdout",
          "output_type": "stream",
          "text": [
            "train; Loss: 0.41122321699346814, Acc: 0.8303571343421936\n"
          ]
        },
        {
          "name": "stderr",
          "output_type": "stream",
          "text": [
            "100%|██████████| 13/13 [01:55<00:00,  8.87s/it]\n"
          ]
        },
        {
          "name": "stdout",
          "output_type": "stream",
          "text": [
            "val; Loss: 1.2178893342162624, Acc: 0.5\n",
            "Epoch 10\n"
          ]
        },
        {
          "name": "stderr",
          "output_type": "stream",
          "text": [
            " 23%|██▎       | 16/70 [02:44<09:25, 10.47s/it]"
          ]
        }
      ],
      "source": [
        "model.to(device)\n",
        "metrics = {\"epoch\": [], \"train_loss\": [], \"train_acc\": [], \"val_loss\": [], \"val_acc\": []}\n",
        "best_loss = np.inf\n",
        "for epoch in range(epochs):\n",
        "  print(f\"Epoch {epoch}\")\n",
        "  for phase in [\"train\", \"val\"]:\n",
        "    if(phase == \"train\"):\n",
        "      model.train()\n",
        "    else:\n",
        "      model.eval()\n",
        "    running_loss = 0.0\n",
        "    running_correct = 0.0\n",
        "    loader = dataloader_dict[phase]\n",
        "    for inputs, labels in tqdm(loader):\n",
        "      inputs = inputs.to(device)\n",
        "      labels = labels.to(device)\n",
        "\n",
        "      optimizer.zero_grad()\n",
        "      with torch.set_grad_enabled(phase == \"train\"):\n",
        "        outputs = model(inputs).to(device)\n",
        "        loss = criterion(outputs, labels)\n",
        "        preds = torch.argmax(outputs, dim=1)\n",
        "\n",
        "        running_loss += loss.item() * inputs.size(0)\n",
        "        running_correct += torch.sum(preds == labels.data)\n",
        "\n",
        "      if(phase == \"train\"):\n",
        "        loss.backward()\n",
        "        optimizer.step()\n",
        "\n",
        "    epoch_loss = running_loss/len(dataloader_dict[phase].dataset)\n",
        "    epoch_acc = running_correct/len(dataloader_dict[phase].dataset)\n",
        "    print(f\"{phase}; Loss: {epoch_loss}, Acc: {epoch_acc}\")\n",
        "\n",
        "    if(phase == \"train\"):\n",
        "      metrics[\"epoch\"].append(epoch)\n",
        "      metrics[\"train_loss\"].append(epoch_loss)\n",
        "      metrics[\"train_acc\"].append(epoch_acc)\n",
        "    else:\n",
        "      metrics[\"val_loss\"].append(epoch_loss)\n",
        "      metrics[\"val_acc\"].append(epoch_acc)\n",
        "\n",
        "    if(epoch_loss < best_loss and phase == \"val\"):\n",
        "      best_loss = epoch_loss\n",
        "      torch.save(model, f\"/content/drive/MyDrive/DS6050 (Deep Learning) Project/model - multiclass_resnet18/{model_name}_best_model.pth\")\n",
        "\n",
        "    torch.save(model, f\"/content/drive/MyDrive/DS6050 (Deep Learning) Project/model - multiclass_resnet18/history/{model_name}_epoch{epoch}.pth\")\n",
        "\n",
        "    with open(f\"/content/drive/MyDrive/DS6050 (Deep Learning) Project/model - multiclass_resnet18/metrics.pkl\", 'wb') as handle:\n",
        "      pickle.dump(metrics, handle)\n",
        "\n"
      ]
    },
    {
      "cell_type": "markdown",
      "metadata": {
        "id": "aTOB0uNaJYJ0"
      },
      "source": [
        "## Inference/ Evaluation results"
      ]
    },
    {
      "cell_type": "code",
      "execution_count": null,
      "metadata": {
        "id": "hlG7Camp008J"
      },
      "outputs": [],
      "source": [
        "batch_size = 16\n",
        "class_dict = {\"benign\": 0, \"normal\": 1, \"malignant\": 2}\n",
        "transforms = tr.Compose([tr.ToTensor(), tr.Resize((1024, 1024), antialias = True), tr.Normalize(mean=[0.485, 0.456, 0.406], std=[0.229, 0.224, 0.225])])\n"
      ]
    },
    {
      "cell_type": "code",
      "execution_count": null,
      "metadata": {
        "colab": {
          "base_uri": "https://localhost:8080/"
        },
        "id": "3COMlCACz18Q",
        "outputId": "271d01d2-8f09-4153-8b55-2a941ba7a580"
      },
      "outputs": [
        {
          "output_type": "stream",
          "name": "stdout",
          "text": [
            "test data: 378\n"
          ]
        }
      ],
      "source": [
        "test_data = []\n",
        "\n",
        "for index, row in test_csv.iterrows():\n",
        "  path = f\"{row['image file path'].split('/')[-2]}\"\n",
        "  if(row['pathology'] == \"BENIGN_WITHOUT_CALLBACK\"):\n",
        "    test_data.append(os.path.join(images, path, \\\n",
        "  f\"BENIGNWITHOUTCALLBACK_{os.listdir(os.path.join(images, row['image file path'].split('/')[-2]))[0]}\"))\n",
        "  else:\n",
        "    test_data.append(os.path.join(images, path, \\\n",
        "  f\"{row['pathology']}_{os.listdir(os.path.join(images, row['image file path'].split('/')[-2]))[0]}\"))\n",
        "\n",
        "\n",
        "print(f\"test data: {len(test_data)}\")\n",
        "\n",
        "test_dataloader = DataLoader(dataset=ClassifierDataset(image_paths=test_data, class_dict=class_dict, transforms=transforms),\n",
        "                             batch_size=1,\n",
        "                             num_workers=0,\n",
        "                             shuffle=True)"
      ]
    },
    {
      "cell_type": "code",
      "execution_count": null,
      "metadata": {
        "id": "BqSHVhESxxMz"
      },
      "outputs": [],
      "source": [
        "model_path  = \"/content/drive/MyDrive/DS6050 (Deep Learning) Project/model - multiclass_resnet18/multi_classify_breast_cancer_resnet18_best_model.pth\"\n",
        "model = torch.load(model_path, map_location=device)\n",
        "model = model.eval()"
      ]
    },
    {
      "cell_type": "code",
      "execution_count": null,
      "metadata": {
        "colab": {
          "base_uri": "https://localhost:8080/"
        },
        "id": "oo1sPhrswlw5",
        "outputId": "9af249f9-41ca-4d9c-ab10-401d84343ee4"
      },
      "outputs": [
        {
          "output_type": "stream",
          "name": "stderr",
          "text": [
            "100%|██████████| 378/378 [03:56<00:00,  1.60it/s]\n"
          ]
        }
      ],
      "source": [
        "preds = []\n",
        "actuals = []\n",
        "for inputs, labels in tqdm(test_dataloader):\n",
        "  inputs = inputs.to(device)\n",
        "  labels = labels.to(device)\n",
        "  output = model(inputs)\n",
        "  pred = torch.argmax(output, dim=1).cpu().detach().numpy()\n",
        "  preds.append(pred)\n",
        "  actuals.append(labels.cpu().detach().numpy())\n"
      ]
    },
    {
      "cell_type": "code",
      "execution_count": null,
      "metadata": {
        "colab": {
          "base_uri": "https://localhost:8080/"
        },
        "id": "Qi538BRQ211Y",
        "outputId": "d1b59109-47c1-46b4-ada3-9776fd5faeeb"
      },
      "outputs": [
        {
          "output_type": "stream",
          "name": "stdout",
          "text": [
            "recall: 0.544973544973545\n",
            "precision: 0.544973544973545\n"
          ]
        }
      ],
      "source": [
        "recall = metrics.recall_score(actuals, preds, average=\"micro\")\n",
        "precision = metrics.precision_score(actuals, preds, average=\"micro\")\n",
        "print(f\"recall: {recall}\")\n",
        "print(f\"precision: {precision}\")"
      ]
    },
    {
      "cell_type": "code",
      "execution_count": null,
      "metadata": {
        "colab": {
          "base_uri": "https://localhost:8080/",
          "height": 472
        },
        "id": "J1pBZMJD3EL0",
        "outputId": "43f64610-f636-4620-a486-160cf259310f"
      },
      "outputs": [
        {
          "output_type": "display_data",
          "data": {
            "text/plain": [
              "<Figure size 640x480 with 2 Axes>"
            ],
            "image/png": "[encoded data removed]"
          },
          "metadata": {}
        }
      ],
      "source": [
        "confusion_matrix = metrics.confusion_matrix(actuals, preds, normalize=\"true\")\n",
        "disp = metrics.ConfusionMatrixDisplay(confusion_matrix=confusion_matrix, display_labels=list(class_dict.keys()))\n",
        "disp.plot(cmap=\"Blues\")\n",
        "plt.title(\"Confusion Matrix\")\n",
        "plt.show()"
      ]
    }
  ],
  "metadata": {
    "accelerator": "GPU",
    "colab": {
      "provenance": []
    },
    "kernelspec": {
      "display_name": "Python 3",
      "name": "python3"
    },
    "language_info": {
      "name": "python"
    }
  },
  "nbformat": 4,
  "nbformat_minor": 0
}